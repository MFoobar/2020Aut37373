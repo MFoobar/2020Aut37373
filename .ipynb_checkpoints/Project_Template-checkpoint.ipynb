{
 "cells": [
  {
   "cell_type": "markdown",
   "metadata": {
    "slideshow": {
     "slide_type": "slide"
    }
   },
   "source": [
    "<br /><h1 style=\"font-family:Impact,Arial;font-size:70px;\">Project Title</h1>\n",
    "<h2 style=\"font-family:Arial;\">Your full name</h2>\n",
    "<h2 style=\"font-family:Arial;\">Your student ID</h2>\n",
    "<p><small> 37373 Programming for Data Analysis</small></p>\n",
    "<p><small><font color=MediumVioletRed>Autumn 2020</font></small>\n",
    "</p>\n",
    "<hr style=\"height:5px;border:none;color:#333;background-color:#333;\" />"
   ]
  },
  {
   "cell_type": "markdown",
   "metadata": {},
   "source": [
    "# Abstract\n",
    "\n",
    "Write a short (no more than 10 lines) summary of your project's topic and main goals."
   ]
  },
  {
   "cell_type": "markdown",
   "metadata": {},
   "source": [
    "<hr style=\"height:5px;border:none;color:#333;background-color:#333;\" />\n",
    "<h1>1. Motivation</h1>\n",
    "\n",
    "Write a detailed description of the problem and the original goal(s) of the study. Explain why you were interested in this topic and the type of insight you were hoping to get from the data."
   ]
  },
  {
   "cell_type": "markdown",
   "metadata": {},
   "source": [
    "<hr style=\"height:5px;border:none;color:#333;background-color:#333;\" />\n",
    "<h1>2. The data</h1>\n",
    "A clear description of the dataset(s) origin and a discussion of why it was chosen, as well as any restriction regarding the use, dissemination or modification of the data.\n",
    "\n",
    "Note that wherever possible you should provide a link to the <b>unmodified, raw</b> data set.\n"
   ]
  },
  {
   "cell_type": "markdown",
   "metadata": {},
   "source": [
    "<hr style=\"height:5px;border:none;color:#333;background-color:#333;\" />\n",
    "<h1>3. Data preparation</h1>\n",
    "\n",
    "Code and comments on how the raw data is put in a usable form (i.e., how you go from the raw data set(s) to the dataframe you are using for the analysis).\n",
    "\n",
    "<b>Create as many code, markdown and raw cells as needed</b>"
   ]
  },
  {
   "cell_type": "code",
   "execution_count": null,
   "metadata": {},
   "outputs": [],
   "source": []
  },
  {
   "cell_type": "markdown",
   "metadata": {},
   "source": [
    "<hr style=\"height:5px;border:none;color:#333;background-color:#333;\" />\n",
    "<h1>4. Exploratory data analysis</h1>\n",
    "\n",
    "This is the main part of the project. Include code, plots, and detailed explanation of your analysis of the data. Be sure to include enough detail so that anyone can follow and understand what you are doing.\n",
    "\n",
    "<b>Create as many code, markdown and raw cells as needed</b>"
   ]
  },
  {
   "cell_type": "code",
   "execution_count": null,
   "metadata": {},
   "outputs": [],
   "source": []
  },
  {
   "cell_type": "markdown",
   "metadata": {},
   "source": [
    "<hr style=\"height:5px;border:none;color:#333;background-color:#333;\" />\n",
    "<h1>5. Results/Insights</h1>\n",
    "\n",
    "Discuss any non-trivial result or insight into the problem stemming from your analysis.\n",
    "\n",
    "<b>Create as many code, markdown and raw cells as needed</b>"
   ]
  },
  {
   "cell_type": "code",
   "execution_count": null,
   "metadata": {},
   "outputs": [],
   "source": []
  },
  {
   "cell_type": "markdown",
   "metadata": {},
   "source": [
    "<hr style=\"height:5px;border:none;color:#333;background-color:#333;\" />\n",
    "<h1>6. In hindsight...</h1>\n",
    "\n",
    "In this section you should reflect on your work and what you've learned. In particular you should include:\n",
    "\n",
    "<ul>\n",
    "    <li> a discussion of the most challenging aspect of the data analysis and if/how you overcame the challenge.</li>\n",
    "    <li> a discussion of any programming technique and/or reference you found particularly useful or helpful for your project.</li>\n",
    "    <li> an assessment of the outcome of the study in relation to the original goals (i.e., have the goals been reached, or did you have to reassess the goals during the project, and if so why?).</li>\n",
    "    <li> a discussion of what new, or surprising knowledge or insight into the problem you've gained by conducting the study.</li>\n",
    "    <li> a discussion of whether you would approach the problem differently if given an opportunity to redo the work, and any advice they would give to someone who would want to work on a similar problem.</li>\n",
    "    <li> a discussion of how your analysis could be improved or extended in future work.</li>\n",
    "\n",
    "</ul>"
   ]
  },
  {
   "cell_type": "code",
   "execution_count": null,
   "metadata": {},
   "outputs": [],
   "source": []
  }
 ],
 "metadata": {
  "kernelspec": {
   "display_name": "Python 3",
   "language": "python",
   "name": "python3"
  },
  "language_info": {
   "codemirror_mode": {
    "name": "ipython",
    "version": 3
   },
   "file_extension": ".py",
   "mimetype": "text/x-python",
   "name": "python",
   "nbconvert_exporter": "python",
   "pygments_lexer": "ipython3",
   "version": "3.7.7"
  }
 },
 "nbformat": 4,
 "nbformat_minor": 1
}
